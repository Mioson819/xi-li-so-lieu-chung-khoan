{
  "cells": [
    {
      "cell_type": "markdown",
      "metadata": {
        "id": "view-in-github",
        "colab_type": "text"
      },
      "source": [
        "<a href=\"https://colab.research.google.com/github/Mioson819/xi-li-so-lieu-chung-khoan/blob/main/New.ipynb\" target=\"_parent\"><img src=\"https://colab.research.google.com/assets/colab-badge.svg\" alt=\"Open In Colab\"/></a>"
      ]
    },
    {
      "cell_type": "code",
      "execution_count": null,
      "metadata": {
        "colab": {
          "base_uri": "https://localhost:8080/"
        },
        "id": "VrAzh7cTfhh1",
        "outputId": "c355ac2f-a698-49ff-b5e4-9ada24958ab3"
      },
      "outputs": [
        {
          "output_type": "stream",
          "name": "stdout",
          "text": [
            "Requirement already satisfied: investpy in /usr/local/lib/python3.7/dist-packages (1.0.8)\n",
            "Requirement already satisfied: pandas>=0.25.1 in /usr/local/lib/python3.7/dist-packages (from investpy) (1.3.5)\n",
            "Requirement already satisfied: numpy>=1.17.2 in /usr/local/lib/python3.7/dist-packages (from investpy) (1.21.5)\n",
            "Requirement already satisfied: requests>=2.22.0 in /usr/local/lib/python3.7/dist-packages (from investpy) (2.23.0)\n",
            "Requirement already satisfied: setuptools>=41.2.0 in /usr/local/lib/python3.7/dist-packages (from investpy) (57.4.0)\n",
            "Requirement already satisfied: lxml>=4.4.1 in /usr/local/lib/python3.7/dist-packages (from investpy) (4.8.0)\n",
            "Requirement already satisfied: pytz>=2019.3 in /usr/local/lib/python3.7/dist-packages (from investpy) (2021.3)\n",
            "Requirement already satisfied: Unidecode>=1.1.1 in /usr/local/lib/python3.7/dist-packages (from investpy) (1.3.4)\n",
            "Requirement already satisfied: python-dateutil>=2.7.3 in /usr/local/lib/python3.7/dist-packages (from pandas>=0.25.1->investpy) (2.8.2)\n",
            "Requirement already satisfied: six>=1.5 in /usr/local/lib/python3.7/dist-packages (from python-dateutil>=2.7.3->pandas>=0.25.1->investpy) (1.15.0)\n",
            "Requirement already satisfied: urllib3!=1.25.0,!=1.25.1,<1.26,>=1.21.1 in /usr/local/lib/python3.7/dist-packages (from requests>=2.22.0->investpy) (1.24.3)\n",
            "Requirement already satisfied: idna<3,>=2.5 in /usr/local/lib/python3.7/dist-packages (from requests>=2.22.0->investpy) (2.10)\n",
            "Requirement already satisfied: chardet<4,>=3.0.2 in /usr/local/lib/python3.7/dist-packages (from requests>=2.22.0->investpy) (3.0.4)\n",
            "Requirement already satisfied: certifi>=2017.4.17 in /usr/local/lib/python3.7/dist-packages (from requests>=2.22.0->investpy) (2021.10.8)\n",
            "Requirement already satisfied: cufflinks in /usr/local/lib/python3.7/dist-packages (0.17.3)\n",
            "Requirement already satisfied: six>=1.9.0 in /usr/local/lib/python3.7/dist-packages (from cufflinks) (1.15.0)\n",
            "Requirement already satisfied: colorlover>=0.2.1 in /usr/local/lib/python3.7/dist-packages (from cufflinks) (0.3.0)\n",
            "Requirement already satisfied: pandas>=0.19.2 in /usr/local/lib/python3.7/dist-packages (from cufflinks) (1.3.5)\n",
            "Requirement already satisfied: ipython>=5.3.0 in /usr/local/lib/python3.7/dist-packages (from cufflinks) (5.5.0)\n",
            "Requirement already satisfied: numpy>=1.9.2 in /usr/local/lib/python3.7/dist-packages (from cufflinks) (1.21.5)\n",
            "Requirement already satisfied: setuptools>=34.4.1 in /usr/local/lib/python3.7/dist-packages (from cufflinks) (57.4.0)\n",
            "Requirement already satisfied: ipywidgets>=7.0.0 in /usr/local/lib/python3.7/dist-packages (from cufflinks) (7.6.5)\n",
            "Requirement already satisfied: plotly>=4.1.1 in /usr/local/lib/python3.7/dist-packages (from cufflinks) (5.5.0)\n",
            "Requirement already satisfied: simplegeneric>0.8 in /usr/local/lib/python3.7/dist-packages (from ipython>=5.3.0->cufflinks) (0.8.1)\n",
            "Requirement already satisfied: pickleshare in /usr/local/lib/python3.7/dist-packages (from ipython>=5.3.0->cufflinks) (0.7.5)\n",
            "Requirement already satisfied: pygments in /usr/local/lib/python3.7/dist-packages (from ipython>=5.3.0->cufflinks) (2.6.1)\n",
            "Requirement already satisfied: pexpect in /usr/local/lib/python3.7/dist-packages (from ipython>=5.3.0->cufflinks) (4.8.0)\n",
            "Requirement already satisfied: traitlets>=4.2 in /usr/local/lib/python3.7/dist-packages (from ipython>=5.3.0->cufflinks) (5.1.1)\n",
            "Requirement already satisfied: decorator in /usr/local/lib/python3.7/dist-packages (from ipython>=5.3.0->cufflinks) (4.4.2)\n",
            "Requirement already satisfied: prompt-toolkit<2.0.0,>=1.0.4 in /usr/local/lib/python3.7/dist-packages (from ipython>=5.3.0->cufflinks) (1.0.18)\n",
            "Requirement already satisfied: ipykernel>=4.5.1 in /usr/local/lib/python3.7/dist-packages (from ipywidgets>=7.0.0->cufflinks) (4.10.1)\n",
            "Requirement already satisfied: jupyterlab-widgets>=1.0.0 in /usr/local/lib/python3.7/dist-packages (from ipywidgets>=7.0.0->cufflinks) (1.0.2)\n",
            "Requirement already satisfied: widgetsnbextension~=3.5.0 in /usr/local/lib/python3.7/dist-packages (from ipywidgets>=7.0.0->cufflinks) (3.5.2)\n",
            "Requirement already satisfied: nbformat>=4.2.0 in /usr/local/lib/python3.7/dist-packages (from ipywidgets>=7.0.0->cufflinks) (5.1.3)\n",
            "Requirement already satisfied: ipython-genutils~=0.2.0 in /usr/local/lib/python3.7/dist-packages (from ipywidgets>=7.0.0->cufflinks) (0.2.0)\n",
            "Requirement already satisfied: tornado>=4.0 in /usr/local/lib/python3.7/dist-packages (from ipykernel>=4.5.1->ipywidgets>=7.0.0->cufflinks) (5.1.1)\n",
            "Requirement already satisfied: jupyter-client in /usr/local/lib/python3.7/dist-packages (from ipykernel>=4.5.1->ipywidgets>=7.0.0->cufflinks) (5.3.5)\n",
            "Requirement already satisfied: jupyter-core in /usr/local/lib/python3.7/dist-packages (from nbformat>=4.2.0->ipywidgets>=7.0.0->cufflinks) (4.9.2)\n",
            "Requirement already satisfied: jsonschema!=2.5.0,>=2.4 in /usr/local/lib/python3.7/dist-packages (from nbformat>=4.2.0->ipywidgets>=7.0.0->cufflinks) (4.3.3)\n",
            "Requirement already satisfied: typing-extensions in /usr/local/lib/python3.7/dist-packages (from jsonschema!=2.5.0,>=2.4->nbformat>=4.2.0->ipywidgets>=7.0.0->cufflinks) (3.10.0.2)\n",
            "Requirement already satisfied: pyrsistent!=0.17.0,!=0.17.1,!=0.17.2,>=0.14.0 in /usr/local/lib/python3.7/dist-packages (from jsonschema!=2.5.0,>=2.4->nbformat>=4.2.0->ipywidgets>=7.0.0->cufflinks) (0.18.1)\n",
            "Requirement already satisfied: importlib-resources>=1.4.0 in /usr/local/lib/python3.7/dist-packages (from jsonschema!=2.5.0,>=2.4->nbformat>=4.2.0->ipywidgets>=7.0.0->cufflinks) (5.4.0)\n",
            "Requirement already satisfied: attrs>=17.4.0 in /usr/local/lib/python3.7/dist-packages (from jsonschema!=2.5.0,>=2.4->nbformat>=4.2.0->ipywidgets>=7.0.0->cufflinks) (21.4.0)\n",
            "Requirement already satisfied: importlib-metadata in /usr/local/lib/python3.7/dist-packages (from jsonschema!=2.5.0,>=2.4->nbformat>=4.2.0->ipywidgets>=7.0.0->cufflinks) (4.11.2)\n",
            "Requirement already satisfied: zipp>=3.1.0 in /usr/local/lib/python3.7/dist-packages (from importlib-resources>=1.4.0->jsonschema!=2.5.0,>=2.4->nbformat>=4.2.0->ipywidgets>=7.0.0->cufflinks) (3.7.0)\n",
            "Requirement already satisfied: python-dateutil>=2.7.3 in /usr/local/lib/python3.7/dist-packages (from pandas>=0.19.2->cufflinks) (2.8.2)\n",
            "Requirement already satisfied: pytz>=2017.3 in /usr/local/lib/python3.7/dist-packages (from pandas>=0.19.2->cufflinks) (2021.3)\n",
            "Requirement already satisfied: tenacity>=6.2.0 in /usr/local/lib/python3.7/dist-packages (from plotly>=4.1.1->cufflinks) (8.0.1)\n",
            "Requirement already satisfied: wcwidth in /usr/local/lib/python3.7/dist-packages (from prompt-toolkit<2.0.0,>=1.0.4->ipython>=5.3.0->cufflinks) (0.2.5)\n",
            "Requirement already satisfied: notebook>=4.4.1 in /usr/local/lib/python3.7/dist-packages (from widgetsnbextension~=3.5.0->ipywidgets>=7.0.0->cufflinks) (5.3.1)\n",
            "Requirement already satisfied: jinja2 in /usr/local/lib/python3.7/dist-packages (from notebook>=4.4.1->widgetsnbextension~=3.5.0->ipywidgets>=7.0.0->cufflinks) (2.11.3)\n",
            "Requirement already satisfied: terminado>=0.8.1 in /usr/local/lib/python3.7/dist-packages (from notebook>=4.4.1->widgetsnbextension~=3.5.0->ipywidgets>=7.0.0->cufflinks) (0.13.3)\n",
            "Requirement already satisfied: Send2Trash in /usr/local/lib/python3.7/dist-packages (from notebook>=4.4.1->widgetsnbextension~=3.5.0->ipywidgets>=7.0.0->cufflinks) (1.8.0)\n",
            "Requirement already satisfied: nbconvert in /usr/local/lib/python3.7/dist-packages (from notebook>=4.4.1->widgetsnbextension~=3.5.0->ipywidgets>=7.0.0->cufflinks) (5.6.1)\n",
            "Requirement already satisfied: pyzmq>=13 in /usr/local/lib/python3.7/dist-packages (from jupyter-client->ipykernel>=4.5.1->ipywidgets>=7.0.0->cufflinks) (22.3.0)\n",
            "Requirement already satisfied: ptyprocess in /usr/local/lib/python3.7/dist-packages (from terminado>=0.8.1->notebook>=4.4.1->widgetsnbextension~=3.5.0->ipywidgets>=7.0.0->cufflinks) (0.7.0)\n",
            "Requirement already satisfied: MarkupSafe>=0.23 in /usr/local/lib/python3.7/dist-packages (from jinja2->notebook>=4.4.1->widgetsnbextension~=3.5.0->ipywidgets>=7.0.0->cufflinks) (2.0.1)\n",
            "Requirement already satisfied: mistune<2,>=0.8.1 in /usr/local/lib/python3.7/dist-packages (from nbconvert->notebook>=4.4.1->widgetsnbextension~=3.5.0->ipywidgets>=7.0.0->cufflinks) (0.8.4)\n",
            "Requirement already satisfied: defusedxml in /usr/local/lib/python3.7/dist-packages (from nbconvert->notebook>=4.4.1->widgetsnbextension~=3.5.0->ipywidgets>=7.0.0->cufflinks) (0.7.1)\n",
            "Requirement already satisfied: testpath in /usr/local/lib/python3.7/dist-packages (from nbconvert->notebook>=4.4.1->widgetsnbextension~=3.5.0->ipywidgets>=7.0.0->cufflinks) (0.6.0)\n",
            "Requirement already satisfied: pandocfilters>=1.4.1 in /usr/local/lib/python3.7/dist-packages (from nbconvert->notebook>=4.4.1->widgetsnbextension~=3.5.0->ipywidgets>=7.0.0->cufflinks) (1.5.0)\n",
            "Requirement already satisfied: bleach in /usr/local/lib/python3.7/dist-packages (from nbconvert->notebook>=4.4.1->widgetsnbextension~=3.5.0->ipywidgets>=7.0.0->cufflinks) (4.1.0)\n",
            "Requirement already satisfied: entrypoints>=0.2.2 in /usr/local/lib/python3.7/dist-packages (from nbconvert->notebook>=4.4.1->widgetsnbextension~=3.5.0->ipywidgets>=7.0.0->cufflinks) (0.4)\n",
            "Requirement already satisfied: webencodings in /usr/local/lib/python3.7/dist-packages (from bleach->nbconvert->notebook>=4.4.1->widgetsnbextension~=3.5.0->ipywidgets>=7.0.0->cufflinks) (0.5.1)\n",
            "Requirement already satisfied: packaging in /usr/local/lib/python3.7/dist-packages (from bleach->nbconvert->notebook>=4.4.1->widgetsnbextension~=3.5.0->ipywidgets>=7.0.0->cufflinks) (21.3)\n",
            "Requirement already satisfied: pyparsing!=3.0.5,>=2.0.2 in /usr/local/lib/python3.7/dist-packages (from packaging->bleach->nbconvert->notebook>=4.4.1->widgetsnbextension~=3.5.0->ipywidgets>=7.0.0->cufflinks) (3.0.7)\n",
            "Requirement already satisfied: plotly in /usr/local/lib/python3.7/dist-packages (5.5.0)\n",
            "Requirement already satisfied: tenacity>=6.2.0 in /usr/local/lib/python3.7/dist-packages (from plotly) (8.0.1)\n",
            "Requirement already satisfied: six in /usr/local/lib/python3.7/dist-packages (from plotly) (1.15.0)\n"
          ]
        }
      ],
      "source": [
        "!pip install investpy\n",
        "!pip install cufflinks\n",
        "!pip install plotly"
      ]
    },
    {
      "cell_type": "code",
      "execution_count": null,
      "metadata": {
        "id": "eJqn5gEsfoNM"
      },
      "outputs": [],
      "source": [
        "import investpy\n",
        "import math\n",
        "import matplotlib.pyplot as plt\n",
        "import keras\n",
        "import pandas as pd\n",
        "import numpy as np\n",
        "import datetime as dt\n",
        "from keras.models import Sequential\n",
        "from keras.layers import Dense\n",
        "from keras.layers import LSTM\n",
        "from keras.layers import Dropout\n",
        "from keras.layers import *\n",
        "from sklearn.preprocessing import MinMaxScaler\n",
        "from sklearn.metrics import mean_squared_error\n",
        "from sklearn.metrics import mean_absolute_error\n",
        "from sklearn.model_selection import train_test_split\n",
        "from keras.callbacks import EarlyStopping\n",
        "from pylab import *"
      ]
    },
    {
      "cell_type": "code",
      "execution_count": null,
      "metadata": {
        "colab": {
          "base_uri": "https://localhost:8080/"
        },
        "id": "xVKQM3wJfyis",
        "outputId": "8be8b646-a9f4-4a8b-b463-e28edb4dcf71"
      },
      "outputs": [
        {
          "output_type": "stream",
          "name": "stdout",
          "text": [
            "               Open     High      Low    Close    Volume Currency\n",
            "Date                                                             \n",
            "2013-07-05  16290.0  16464.0  16174.0  16232.0   1003210      VND\n",
            "2013-07-08  16232.0  16290.0  15942.0  16000.0   1038420      VND\n",
            "2013-07-09  15826.0  16116.0  15826.0  16058.0    176830      VND\n",
            "2013-07-10  16058.0  16174.0  16000.0  16000.0    379660      VND\n",
            "2013-07-11  16058.0  16058.0  15884.0  15884.0    549380      VND\n",
            "...             ...      ...      ...      ...       ...      ...\n",
            "2022-03-14  47300.0  48200.0  45800.0  45800.0  33845300      VND\n",
            "2022-03-15  45950.0  46700.0  45450.0  46150.0  20864200      VND\n",
            "2022-03-16  46900.0  47150.0  46200.0  46200.0  11418800      VND\n",
            "2022-03-17  46600.0  46700.0  45900.0  45950.0  14957700      VND\n",
            "2022-03-18  46200.0  46850.0  46050.0  46500.0  17727600      VND\n",
            "\n",
            "[2172 rows x 6 columns]\n"
          ]
        }
      ],
      "source": [
        "start = \"01/06/2009\"\n",
        "end = dt.datetime.now().strftime(\"%d/%m/%Y\")\n",
        "company = \"HPG\"\n",
        "df = investpy.get_stock_historical_data(stock=company, country='vietnam', from_date=start, to_date=end)\n",
        "df.head()\n",
        "print(df)\n",
        "#pd.DataFrame(df).to_csv(\"HPG.csv\")"
      ]
    },
    {
      "cell_type": "code",
      "execution_count": null,
      "metadata": {
        "id": "3yqTW1gAf-MX"
      },
      "outputs": [],
      "source": [
        "training_set = df.iloc[800:, 1:2].values\n",
        "test_set = df.iloc[800:, 1:2].values"
      ]
    },
    {
      "cell_type": "code",
      "execution_count": null,
      "metadata": {
        "id": "5fOF_yEmgAxF"
      },
      "outputs": [],
      "source": [
        "# Feature Scaling\n",
        "sc = MinMaxScaler(feature_range = (0, 1))\n",
        "training_set_scaled = sc.fit_transform(training_set)\n",
        "# Creating a data structure with 60 time-steps and 1 output\n",
        "X_train = []\n",
        "y_train = []\n",
        "for i in range(60, 800):\n",
        "    X_train.append(training_set_scaled[i-60:i, 0])\n",
        "    y_train.append(training_set_scaled[i, 0])\n",
        "X_train, y_train = np.array(X_train), np.array(y_train)\n",
        "X_train = np.reshape(X_train, (X_train.shape[0], X_train.shape[1], 1))\n",
        "#(740, 60, 1)"
      ]
    },
    {
      "cell_type": "code",
      "execution_count": null,
      "metadata": {
        "colab": {
          "base_uri": "https://localhost:8080/"
        },
        "id": "Xvanm6NNgFB2",
        "outputId": "f53ea96c-0020-46e3-e962-a6311e74c7c4"
      },
      "outputs": [
        {
          "output_type": "stream",
          "name": "stdout",
          "text": [
            "Epoch 1/100\n",
            "24/24 [==============================] - 10s 125ms/step - loss: 0.0181\n",
            "Epoch 2/100\n",
            "24/24 [==============================] - 3s 126ms/step - loss: 0.0044\n",
            "Epoch 3/100\n",
            "24/24 [==============================] - 3s 122ms/step - loss: 0.0034\n",
            "Epoch 4/100\n",
            "24/24 [==============================] - 3s 124ms/step - loss: 0.0031\n",
            "Epoch 5/100\n",
            "24/24 [==============================] - 3s 124ms/step - loss: 0.0027\n",
            "Epoch 6/100\n",
            "24/24 [==============================] - 5s 217ms/step - loss: 0.0025\n",
            "Epoch 7/100\n",
            "24/24 [==============================] - 4s 163ms/step - loss: 0.0022\n",
            "Epoch 8/100\n",
            "24/24 [==============================] - 3s 123ms/step - loss: 0.0022\n",
            "Epoch 9/100\n",
            "24/24 [==============================] - 3s 122ms/step - loss: 0.0023\n",
            "Epoch 10/100\n",
            "24/24 [==============================] - 3s 119ms/step - loss: 0.0021\n",
            "Epoch 11/100\n",
            "24/24 [==============================] - 3s 116ms/step - loss: 0.0022\n",
            "Epoch 12/100\n",
            "24/24 [==============================] - 3s 121ms/step - loss: 0.0025\n",
            "Epoch 13/100\n",
            "24/24 [==============================] - 3s 117ms/step - loss: 0.0023\n",
            "Epoch 14/100\n",
            "24/24 [==============================] - 3s 116ms/step - loss: 0.0020\n",
            "Epoch 15/100\n",
            "24/24 [==============================] - 3s 143ms/step - loss: 0.0020\n",
            "Epoch 16/100\n",
            "24/24 [==============================] - 3s 117ms/step - loss: 0.0017\n",
            "Epoch 17/100\n",
            "24/24 [==============================] - 3s 116ms/step - loss: 0.0019\n",
            "Epoch 18/100\n",
            "24/24 [==============================] - 3s 116ms/step - loss: 0.0021\n",
            "Epoch 19/100\n",
            "24/24 [==============================] - 3s 116ms/step - loss: 0.0019\n",
            "Epoch 20/100\n",
            "24/24 [==============================] - 3s 119ms/step - loss: 0.0017\n",
            "Epoch 21/100\n",
            "24/24 [==============================] - 3s 122ms/step - loss: 0.0016\n",
            "Epoch 22/100\n",
            "24/24 [==============================] - 3s 120ms/step - loss: 0.0016\n",
            "Epoch 23/100\n",
            "24/24 [==============================] - 3s 121ms/step - loss: 0.0017\n",
            "Epoch 24/100\n",
            "24/24 [==============================] - 3s 118ms/step - loss: 0.0016\n",
            "Epoch 25/100\n",
            "24/24 [==============================] - 3s 121ms/step - loss: 0.0015\n",
            "Epoch 26/100\n",
            "24/24 [==============================] - 3s 121ms/step - loss: 0.0015\n",
            "Epoch 27/100\n",
            "24/24 [==============================] - 3s 121ms/step - loss: 0.0015\n",
            "Epoch 28/100\n",
            "24/24 [==============================] - 3s 120ms/step - loss: 0.0013\n",
            "Epoch 29/100\n",
            "24/24 [==============================] - 3s 122ms/step - loss: 0.0013\n",
            "Epoch 30/100\n",
            "24/24 [==============================] - 3s 121ms/step - loss: 0.0014\n",
            "Epoch 31/100\n",
            "24/24 [==============================] - 3s 125ms/step - loss: 0.0017\n",
            "Epoch 32/100\n",
            "24/24 [==============================] - 3s 123ms/step - loss: 0.0014\n",
            "Epoch 33/100\n",
            "24/24 [==============================] - 3s 122ms/step - loss: 0.0014\n",
            "Epoch 34/100\n",
            "24/24 [==============================] - 3s 123ms/step - loss: 0.0014\n",
            "Epoch 35/100\n",
            "24/24 [==============================] - 3s 120ms/step - loss: 0.0014\n",
            "Epoch 36/100\n",
            "24/24 [==============================] - 3s 120ms/step - loss: 0.0013\n",
            "Epoch 37/100\n",
            "24/24 [==============================] - 3s 122ms/step - loss: 0.0013\n",
            "Epoch 38/100\n",
            "24/24 [==============================] - 3s 123ms/step - loss: 0.0012\n",
            "Epoch 39/100\n",
            "24/24 [==============================] - 3s 119ms/step - loss: 0.0013\n",
            "Epoch 40/100\n",
            "24/24 [==============================] - 3s 137ms/step - loss: 0.0012\n",
            "Epoch 41/100\n",
            "24/24 [==============================] - 3s 119ms/step - loss: 0.0012\n",
            "Epoch 42/100\n",
            "24/24 [==============================] - 3s 117ms/step - loss: 0.0015\n",
            "Epoch 43/100\n",
            "24/24 [==============================] - 3s 121ms/step - loss: 0.0012\n",
            "Epoch 44/100\n",
            "24/24 [==============================] - 3s 123ms/step - loss: 0.0010\n",
            "Epoch 45/100\n",
            "24/24 [==============================] - 3s 125ms/step - loss: 0.0013\n",
            "Epoch 46/100\n",
            "24/24 [==============================] - 3s 122ms/step - loss: 0.0012\n",
            "Epoch 47/100\n",
            "24/24 [==============================] - 3s 122ms/step - loss: 0.0011\n",
            "Epoch 48/100\n",
            "24/24 [==============================] - 3s 123ms/step - loss: 0.0011\n",
            "Epoch 49/100\n",
            "24/24 [==============================] - 3s 124ms/step - loss: 0.0012\n",
            "Epoch 50/100\n",
            "24/24 [==============================] - 3s 123ms/step - loss: 0.0011\n",
            "Epoch 51/100\n",
            "24/24 [==============================] - 4s 182ms/step - loss: 0.0010\n",
            "Epoch 52/100\n",
            "24/24 [==============================] - 3s 125ms/step - loss: 0.0011\n",
            "Epoch 53/100\n",
            "24/24 [==============================] - 3s 122ms/step - loss: 9.5854e-04\n",
            "Epoch 54/100\n",
            "24/24 [==============================] - 3s 121ms/step - loss: 0.0012\n",
            "Epoch 55/100\n",
            "24/24 [==============================] - 3s 124ms/step - loss: 9.8763e-04\n",
            "Epoch 56/100\n",
            "24/24 [==============================] - 3s 124ms/step - loss: 0.0010\n",
            "Epoch 57/100\n",
            "24/24 [==============================] - 3s 121ms/step - loss: 0.0010\n",
            "Epoch 58/100\n",
            "24/24 [==============================] - 3s 125ms/step - loss: 9.3608e-04\n",
            "Epoch 59/100\n",
            "24/24 [==============================] - 3s 124ms/step - loss: 8.3256e-04\n",
            "Epoch 60/100\n",
            "24/24 [==============================] - 3s 125ms/step - loss: 0.0010\n",
            "Epoch 61/100\n",
            "24/24 [==============================] - 3s 117ms/step - loss: 9.4832e-04\n",
            "Epoch 62/100\n",
            "24/24 [==============================] - 3s 117ms/step - loss: 9.5755e-04\n",
            "Epoch 63/100\n",
            "24/24 [==============================] - 3s 117ms/step - loss: 9.2270e-04\n",
            "Epoch 64/100\n",
            "24/24 [==============================] - 3s 116ms/step - loss: 9.8331e-04\n",
            "Epoch 65/100\n",
            "24/24 [==============================] - 3s 120ms/step - loss: 8.6570e-04\n",
            "Epoch 66/100\n",
            "24/24 [==============================] - 4s 181ms/step - loss: 9.8315e-04\n",
            "Epoch 67/100\n",
            "24/24 [==============================] - 3s 120ms/step - loss: 8.4922e-04\n",
            "Epoch 68/100\n",
            "24/24 [==============================] - 3s 116ms/step - loss: 8.4294e-04\n",
            "Epoch 69/100\n",
            "24/24 [==============================] - 3s 117ms/step - loss: 8.1452e-04\n",
            "Epoch 70/100\n",
            "24/24 [==============================] - 3s 119ms/step - loss: 9.4090e-04\n",
            "Epoch 71/100\n",
            "24/24 [==============================] - 3s 124ms/step - loss: 9.6720e-04\n",
            "Epoch 72/100\n",
            "24/24 [==============================] - 3s 123ms/step - loss: 8.1577e-04\n",
            "Epoch 73/100\n",
            "24/24 [==============================] - 3s 123ms/step - loss: 7.1049e-04\n",
            "Epoch 74/100\n",
            "24/24 [==============================] - 3s 123ms/step - loss: 7.7369e-04\n",
            "Epoch 75/100\n",
            "24/24 [==============================] - 3s 119ms/step - loss: 8.5251e-04\n",
            "Epoch 76/100\n",
            "24/24 [==============================] - 3s 124ms/step - loss: 7.8735e-04\n",
            "Epoch 77/100\n",
            "24/24 [==============================] - 3s 120ms/step - loss: 7.9725e-04\n",
            "Epoch 78/100\n",
            "24/24 [==============================] - 3s 124ms/step - loss: 8.0446e-04\n",
            "Epoch 79/100\n",
            "24/24 [==============================] - 3s 123ms/step - loss: 7.7691e-04\n",
            "Epoch 80/100\n",
            "24/24 [==============================] - 3s 120ms/step - loss: 8.0994e-04\n",
            "Epoch 81/100\n",
            "24/24 [==============================] - 3s 120ms/step - loss: 8.0481e-04\n",
            "Epoch 82/100\n",
            "24/24 [==============================] - 3s 121ms/step - loss: 8.1540e-04\n",
            "Epoch 83/100\n",
            "24/24 [==============================] - 3s 121ms/step - loss: 8.1449e-04\n",
            "Epoch 84/100\n",
            "24/24 [==============================] - 3s 120ms/step - loss: 7.7714e-04\n",
            "Epoch 85/100\n",
            "24/24 [==============================] - 3s 122ms/step - loss: 6.5918e-04\n",
            "Epoch 86/100\n",
            "24/24 [==============================] - 3s 121ms/step - loss: 7.2505e-04\n",
            "Epoch 87/100\n",
            "24/24 [==============================] - 3s 121ms/step - loss: 8.0733e-04\n",
            "Epoch 88/100\n",
            "24/24 [==============================] - 3s 122ms/step - loss: 6.7759e-04\n",
            "Epoch 89/100\n",
            "24/24 [==============================] - 3s 122ms/step - loss: 7.2695e-04\n",
            "Epoch 90/100\n",
            "24/24 [==============================] - 3s 122ms/step - loss: 6.7244e-04\n",
            "Epoch 91/100\n",
            "24/24 [==============================] - 3s 122ms/step - loss: 6.4072e-04\n",
            "Epoch 92/100\n",
            "24/24 [==============================] - 3s 122ms/step - loss: 7.5845e-04\n",
            "Epoch 93/100\n",
            "24/24 [==============================] - 3s 121ms/step - loss: 6.8196e-04\n",
            "Epoch 94/100\n",
            "24/24 [==============================] - 3s 120ms/step - loss: 6.7955e-04\n",
            "Epoch 95/100\n",
            "24/24 [==============================] - 4s 155ms/step - loss: 6.5682e-04\n",
            "Epoch 96/100\n",
            "24/24 [==============================] - 3s 123ms/step - loss: 5.9306e-04\n",
            "Epoch 97/100\n",
            "24/24 [==============================] - 3s 126ms/step - loss: 7.5110e-04\n",
            "Epoch 98/100\n",
            "24/24 [==============================] - 3s 119ms/step - loss: 6.6699e-04\n",
            "Epoch 99/100\n",
            "24/24 [==============================] - 3s 122ms/step - loss: 6.8556e-04\n",
            "Epoch 100/100\n",
            "24/24 [==============================] - 3s 125ms/step - loss: 6.9092e-04\n"
          ]
        },
        {
          "output_type": "execute_result",
          "data": {
            "text/plain": [
              "<keras.callbacks.History at 0x7f8a82485bd0>"
            ]
          },
          "metadata": {},
          "execution_count": 91
        }
      ],
      "source": [
        "model = Sequential()\n",
        "#Adding the first LSTM layer and some Dropout regularisation\n",
        "model.add(LSTM(units = 50, return_sequences = True, input_shape = (X_train.shape[1], 1)))\n",
        "model.add(Dropout(0.2))\n",
        "# Adding a second LSTM layer and some Dropout regularisation\n",
        "model.add(LSTM(units = 50, return_sequences = True))\n",
        "model.add(Dropout(0.2))\n",
        "# Adding a third LSTM layer and some Dropout regularisation\n",
        "model.add(LSTM(units = 50, return_sequences = True))\n",
        "model.add(Dropout(0.2))\n",
        "# Adding a fourth LSTM layer and some Dropout regularisation\n",
        "model.add(LSTM(units = 50))\n",
        "model.add(Dropout(0.2))\n",
        "# Adding the output layer\n",
        "model.add(Dense(units = 1))\n",
        "# Compiling the RNN\n",
        "model.compile(optimizer = 'adam', loss = 'mean_squared_error')\n",
        "# Fitting the RNN to the Training set\n",
        "model.fit(X_train, y_train, epochs = 100, batch_size = 32)"
      ]
    },
    {
      "cell_type": "code",
      "execution_count": null,
      "metadata": {
        "colab": {
          "base_uri": "https://localhost:8080/"
        },
        "id": "c0Tn4kBlhxLg",
        "outputId": "fcf43497-ec1b-4dfe-b2dc-d48ffcc5c708"
      },
      "outputs": [
        {
          "output_type": "stream",
          "name": "stdout",
          "text": [
            "(459, 60, 1)\n"
          ]
        }
      ],
      "source": [
        "# Getting the predicted stock price of 2017\n",
        "dataset_train = df.iloc[800:, 1:2]\n",
        "dataset_test = df.iloc[800:, 1:2]\n",
        "dataset_total = pd.concat((dataset_train, dataset_test), axis = 0)\n",
        "inputs = dataset_total[len(dataset_total) - len(dataset_test) - 60:].values\n",
        "inputs = inputs.reshape(-1,1)\n",
        "inputs = sc.transform(inputs)\n",
        "X_test = []\n",
        "for i in range(60, 519):\n",
        "    X_test.append(inputs[i-60:i, 0])\n",
        "X_test = np.array(X_test)\n",
        "X_test = np.reshape(X_test, (X_test.shape[0], X_test.shape[1], 1))\n",
        "print(X_test.shape)\n",
        "# (459, 60, 1)"
      ]
    },
    {
      "cell_type": "code",
      "execution_count": null,
      "metadata": {
        "id": "ELS-8U6nh3CO"
      },
      "outputs": [],
      "source": [
        "predicted_stock_price = model.predict(X_test)\n",
        "predicted_stock_price = sc.inverse_transform(predicted_stock_price)"
      ]
    },
    {
      "cell_type": "code",
      "execution_count": null,
      "metadata": {
        "colab": {
          "base_uri": "https://localhost:8080/",
          "height": 587
        },
        "id": "SVVV4Kxah6tX",
        "outputId": "a9957842-09be-4ba8-cb3f-f43ee9840092"
      },
      "outputs": [
        {
          "output_type": "display_data",
          "data": {
            "text/plain": [
              "<Figure size 1440x720 with 1 Axes>"
            ],
            "image/png": "[encoded data removed]"
          },
          "metadata": {
            "needs_background": "light"
          }
        }
      ],
      "source": [
        "# Visualising the results\n",
        "plt.figure(figsize=(20,10))\n",
        "df['Close'].loc['2020-01-01':'2021-01-01'].rolling(window=30).mean().plot(label='Real HPG Stock Price')\n",
        "df['Close'].loc['2020-01-01':'2021-01-01'].plot(label='Predicted HPG Stock Price')\n",
        "plt.title('HPG Stock Price Prediction')\n",
        "plt.xlabel('Date')\n",
        "plt.ylabel('HPG Stock Price')\n",
        "plt.legend()\n",
        "plt.show()\n",
        "#Real HPG Stock Price\n",
        "#Predicted HPG Stock Price"
      ]
    }
  ],
  "metadata": {
    "colab": {
      "collapsed_sections": [],
      "name": "New.ipynb",
      "provenance": [],
      "include_colab_link": true
    },
    "kernelspec": {
      "display_name": "Python 3",
      "name": "python3"
    },
    "language_info": {
      "name": "python"
    }
  },
  "nbformat": 4,
  "nbformat_minor": 0
}